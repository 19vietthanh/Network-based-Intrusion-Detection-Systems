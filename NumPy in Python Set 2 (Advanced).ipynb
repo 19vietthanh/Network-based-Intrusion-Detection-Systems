{
 "cells": [
  {
   "cell_type": "code",
   "execution_count": 1,
   "metadata": {
    "collapsed": true
   },
   "outputs": [],
   "source": [
    "import numpy as np"
   ]
  },
  {
   "cell_type": "code",
   "execution_count": 8,
   "metadata": {},
   "outputs": [
    {
     "name": "stdout",
     "output_type": "stream",
     "text": [
      "\n",
      "Vertical stacking:\n",
      " [[1 2]\n",
      " [3 4]\n",
      " [5 6]\n",
      " [7 8]]\n",
      "\n",
      "Horizontal Stacking:\n",
      " [[1 2 5 6]\n",
      " [3 4 7 8]]\n",
      "\n",
      "Column stacking:\n",
      " [[1 2 5]\n",
      " [3 4 6]]\n",
      "\n",
      "Concatenating to the 2nd axis:\n",
      " [[1 2 5 6]\n",
      " [3 4 7 8]]\n"
     ]
    }
   ],
   "source": [
    "#Stacking operations\n",
    "a = np.array([[1, 2],\n",
    "              [3, 4]])\n",
    "b = np.array([[5, 6],\n",
    "              [7, 8]])\n",
    "\n",
    "#vertical stacking \n",
    "print (\"\\nVertical stacking:\\n\", np.vstack((a, b)))\n",
    "\n",
    "#horizontal stacking\n",
    "print (\"\\nHorizontal Stacking:\\n\", np.hstack((a, b)))\n",
    "\n",
    "c = [5, 6]\n",
    "\n",
    "#stacking columns\n",
    "print (\"\\nColumn stacking:\\n\", np.column_stack((a, c)))\n",
    "\n",
    "#concatenation method\n",
    "print (\"\\nConcatenating to the 2nd axis:\\n\", np.concatenate((a, b), 1))"
   ]
  },
  {
   "cell_type": "code",
   "execution_count": 10,
   "metadata": {},
   "outputs": [
    {
     "name": "stdout",
     "output_type": "stream",
     "text": [
      "\n",
      "Splitting along horizontal axis into 2 parts:\n",
      " [array([[1, 3, 5],\n",
      "       [2, 4, 6]]), array([[ 7,  9, 11],\n",
      "       [ 8, 10, 12]])]\n",
      "\n",
      "Splitting along vertical axis into 2 parts:\n",
      " [array([[ 1,  3,  5,  7,  9, 11]]), array([[ 2,  4,  6,  8, 10, 12]])]\n"
     ]
    }
   ],
   "source": [
    "#Splitting operations\n",
    "a = np.array([[1, 3, 5, 7, 9, 11],\n",
    "              [2, 4, 6, 8, 10, 12]])\n",
    "\n",
    "#horizontal splitting\n",
    "print (\"\\nSplitting along horizontal axis into 2 parts:\\n\", np.hsplit(a, 2))\n",
    "\n",
    "#vertical splitting\n",
    "print (\"\\nSplitting along vertical axis into 2 parts:\\n\", np.vsplit(a, 2))"
   ]
  },
  {
   "cell_type": "code",
   "execution_count": 13,
   "metadata": {},
   "outputs": [
    {
     "name": "stdout",
     "output_type": "stream",
     "text": [
      "[ 2.  4.  6.]\n",
      "[ 2.  4.  6.]\n",
      "[[  0.   1.   2.]\n",
      " [ 10.  11.  12.]\n",
      " [ 20.  21.  22.]\n",
      " [ 30.  31.  32.]]\n"
     ]
    }
   ],
   "source": [
    "#Broadcasting\n",
    "a = np.array([1.0, 2.0, 3.0])\n",
    "\n",
    "b = 2.0\n",
    "print (a*b)\n",
    "\n",
    "c = [2.0, 2.0, 2.0]\n",
    "print (a*c)\n",
    "\n",
    "a = np.array([0.0, 10.0, 20.0, 30.0])\n",
    "b = np.array([0.0, 1.0, 2.0])\n",
    "print (a[:, np.newaxis] + b)"
   ]
  },
  {
   "cell_type": "code",
   "execution_count": 23,
   "metadata": {},
   "outputs": [
    {
     "name": "stdout",
     "output_type": "stream",
     "text": [
      "\n",
      "Today's date is:\n",
      " 2017-09-29\n",
      "\n",
      "The current year is:\n",
      " 2017\n",
      "\n",
      "Dates of September, 2017:\n",
      " ['2017-09-01' '2017-09-02' '2017-09-03' '2017-09-04' '2017-09-05'\n",
      " '2017-09-06' '2017-09-07' '2017-09-08' '2017-09-09' '2017-09-10'\n",
      " '2017-09-11' '2017-09-12' '2017-09-13' '2017-09-14' '2017-09-15'\n",
      " '2017-09-16' '2017-09-17' '2017-09-18' '2017-09-19' '2017-09-20'\n",
      " '2017-09-21' '2017-09-22' '2017-09-23' '2017-09-24' '2017-09-25'\n",
      " '2017-09-26' '2017-09-27' '2017-09-28' '2017-09-29' '2017-09-30']\n",
      "\n",
      "Today is September:\n",
      " True\n",
      "\n",
      "Number of daya:\n",
      " 1470 days\n",
      "\n",
      "Number of weeeks:\n",
      " 210 weeks\n",
      "\n",
      "Dates in sorted order:\n",
      " ['2016-10-13' '2017-02-12' '2019-05-22']\n"
     ]
    }
   ],
   "source": [
    "#Working with datetime\n",
    "\n",
    "#creating a date\n",
    "today = np.datetime64('2017-09-29')\n",
    "print (\"\\nToday's date is:\\n\", today)\n",
    "print (\"\\nThe current year is:\\n\", np.datetime64(today, 'Y'))\n",
    "\n",
    "#creating array of dates in a month\n",
    "dates = np.arange('2017-09', '2017-10', dtype = 'datetime64[D]')\n",
    "print (\"\\nDates of September, 2017:\\n\", dates)\n",
    "print (\"\\nToday is September:\\n\", today in dates)\n",
    "\n",
    "#arithmetic operations on dates\n",
    "dur = np.datetime64('2017-05-22') - np.datetime64('2013-05-13')\n",
    "print (\"\\nNumber of daya:\\n\", dur)\n",
    "print (\"\\nNumber of weeeks:\\n\", np.timedelta64(dur, 'W'))\n",
    "\n",
    "#sorting dates\n",
    "a = np.array(['2017-02-12', '2016-10-13', '2019-05-22'], dtype = 'datetime64')\n",
    "print (\"\\nDates in sorted order:\\n\", np.sort(a))"
   ]
  },
  {
   "cell_type": "code",
   "execution_count": 25,
   "metadata": {},
   "outputs": [
    {
     "name": "stdout",
     "output_type": "stream",
     "text": [
      "\n",
      "Rank of A:\n",
      " 3\n",
      "\n",
      "Trace of A:\n",
      " 11\n",
      "\n",
      "Determinant of A:\n",
      " -306.0\n",
      "\n",
      "Inverse of A:\n",
      " [[ 0.17647059 -0.00326797 -0.02287582]\n",
      " [ 0.05882353 -0.13071895  0.08496732]\n",
      " [-0.11764706  0.1503268   0.05228758]]\n",
      "\n",
      "Matrix A raised to the power of 3:\n",
      " [[336 162 228]\n",
      " [406 162 469]\n",
      " [698 702 905]]\n"
     ]
    }
   ],
   "source": [
    "#Linear algebra in NumPy\n",
    "A = np.array([[6, 1, 1],\n",
    "              [4, -2, 5],\n",
    "              [2, 8, 7]])\n",
    "print (\"\\nRank of A:\\n\", np.linalg.matrix_rank(A))\n",
    "print (\"\\nTrace of A:\\n\", np.trace(A))\n",
    "print (\"\\nDeterminant of A:\\n\", np.linalg.det(A))\n",
    "print (\"\\nInverse of A:\\n\", np.linalg.inv(A))\n",
    "print (\"\\nMatrix A raised to the power of 3:\\n\", np.linalg.matrix_power(A, 3))"
   ]
  },
  {
   "cell_type": "code",
   "execution_count": 26,
   "metadata": {},
   "outputs": [
    {
     "name": "stdout",
     "output_type": "stream",
     "text": [
      "\n",
      "Solution of linear equations:\n",
      " [ 2.  3.]\n"
     ]
    }
   ],
   "source": [
    "#Solving linear equations\n",
    "\"\"\"\n",
    "x + 2 * y = 8\n",
    "3 * x + 4 * y = 18\n",
    "\"\"\"\n",
    "#coefficients\n",
    "a = np.array([[1, 2],\n",
    "              [3, 4]])\n",
    "#constants\n",
    "b = np.array([8, 18])\n",
    "print (\"\\nSolution of linear equations:\\n\", np.linalg.solve(a, b))"
   ]
  },
  {
   "cell_type": "code",
   "execution_count": 30,
   "metadata": {},
   "outputs": [
    {
     "data": {
      "image/png": "[encoded data removed]",
      "text/plain": [
       "<matplotlib.figure.Figure at 0x13220e5bf98>"
      ]
     },
     "metadata": {},
     "output_type": "display_data"
    }
   ],
   "source": [
    "#LINEAR REGRESSION using the LEAST SQUARES method\n",
    "import numpy as np\n",
    "import matplotlib.pyplot as plt\n",
    "\n",
    "#X-coordinates\n",
    "x = np.arange(0, 9)\n",
    "A = np.array([x, np.ones(9)])\n",
    "\n",
    "#linearly generated sequence\n",
    "y = [19, 20, 20.5, 21.5, 22, 23, 23, 25.5, 24]\n",
    "\n",
    "#obtaining the parameters of regression line\n",
    "w = np.linalg.lstsq(A.T, y)[0]\n",
    "\n",
    "#plotting the line\n",
    "line = w[0] * x + w[1] #regression line\n",
    "plt.plot(x, line, 'r-')\n",
    "plt.plot(x, y, 'o')\n",
    "plt.show()"
   ]
  },
  {
   "cell_type": "code",
   "execution_count": null,
   "metadata": {},
   "outputs": [],
   "source": []
  },
  {
   "cell_type": "code",
   "execution_count": null,
   "metadata": {},
   "outputs": [],
   "source": []
  },
  {
   "cell_type": "code",
   "execution_count": null,
   "metadata": {
    "collapsed": true
   },
   "outputs": [],
   "source": []
  }
 ],
 "metadata": {
  "kernelspec": {
   "display_name": "Python 3",
   "language": "python",
   "name": "python3"
  },
  "language_info": {
   "codemirror_mode": {
    "name": "ipython",
    "version": 3
   },
   "file_extension": ".py",
   "mimetype": "text/x-python",
   "name": "python",
   "nbconvert_exporter": "python",
   "pygments_lexer": "ipython3",
   "version": "3.6.2"
  }
 },
 "nbformat": 4,
 "nbformat_minor": 2
}
