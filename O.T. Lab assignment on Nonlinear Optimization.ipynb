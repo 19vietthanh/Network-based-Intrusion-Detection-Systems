{
 "cells": [
  {
   "cell_type": "code",
   "execution_count": 3,
   "metadata": {
    "collapsed": false
   },
   "outputs": [
    {
     "name": "stdout",
     "output_type": "stream",
     "text": [
      "('solution points :-', array([  0.57735027,   0.81649658,  19.48557159]))\n",
      "('maximum value=', 12.99038105676658)\n"
     ]
    }
   ],
   "source": [
    "#Qn.no.3\n",
    "import numpy as np   \n",
    "from scipy.optimize import fsolve\n",
    "\n",
    "def func(X):\n",
    "    x = X[0]\n",
    "    y = X[1]\n",
    "    L = X[2] \n",
    "    return 5/(x*(y**2)) + L * (x**2 + y**2 - 1)\n",
    "\n",
    "def dfunc(X):\n",
    "    dLambda = np.zeros(len(X))\n",
    "    h = 1e-5 \n",
    "    for i in range(len(X)):\n",
    "        dX = np.zeros(len(X))\n",
    "        dX[i] = h/2\n",
    "        dLambda[i] = (func(X+dX)-func(X-dX))/(h);\n",
    "    return dLambda\n",
    "# this is the max\n",
    "X1 = fsolve(dfunc, [1, 1, 0])\n",
    "print (\"solution points :-\", X1)\n",
    "print (\"maximum value=\", func(X1))"
   ]
  },
  {
   "cell_type": "code",
   "execution_count": 2,
   "metadata": {
    "collapsed": false
   },
   "outputs": [
    {
     "name": "stdout",
     "output_type": "stream",
     "text": [
      "('solution points :-', array([  2.66666667,  -1.33333333,  -0.33333333,  13.33333333]))\n",
      "('minimum value=', 168.66666666666666)\n"
     ]
    }
   ],
   "source": [
    "#Qn.no.2\n",
    "import numpy as np   \n",
    "from scipy.optimize import fsolve\n",
    "\n",
    "def func(X):\n",
    "    x = X[0]\n",
    "    y = X[1]\n",
    "    z = X[2]\n",
    "    L = X[3] \n",
    "    return 2*(x**2) - 24*x + 2*(y**2) - 8*y + 2*(z**2) - 12*z +200 + L * (x + y + z - 1)\n",
    "\n",
    "def dfunc(X):\n",
    "    dLambda = np.zeros(len(X))\n",
    "    h = 1e-5 \n",
    "    for i in range(len(X)):\n",
    "        dX = np.zeros(len(X))\n",
    "        dX[i] = h/2\n",
    "        dLambda[i] = (func(X+dX)-func(X-dX))/(h);\n",
    "    return dLambda\n",
    "# this is the max\n",
    "X1 = fsolve(dfunc, [-1, -1, -1,0])\n",
    "print (\"solution points :-\", X1)\n",
    "print (\"minimum value=\", func(X1))"
   ]
  },
  {
   "cell_type": "code",
   "execution_count": 12,
   "metadata": {
    "collapsed": false
   },
   "outputs": [
    {
     "name": "stdout",
     "output_type": "stream",
     "text": [
      "('solution points :-', array([  1.10256538e-11,  -6.99053291e-12]))\n",
      "('maximum value=', 6.0)\n"
     ]
    }
   ],
   "source": [
    "#Qn.no.4\n",
    "import numpy as np   \n",
    "from scipy.optimize import fsolve\n",
    "\n",
    "def func(X):\n",
    "    x = X[0]\n",
    "    y = X[1]\n",
    "    return x**3 + y**3 + 2*(x**2) + 4*(y**2) + 6 \n",
    "\n",
    "def dfunc(X):\n",
    "    dLambda = np.zeros(len(X))\n",
    "    h = 1e-5 \n",
    "    for i in range(len(X)):\n",
    "        dX = np.zeros(len(X))\n",
    "        dX[i] = h/2\n",
    "        dLambda[i] = (func(X+dX)-func(X-dX))/(h)\n",
    "    return dLambda\n",
    "# this is the max\n",
    "X1 = fsolve(dfunc, [1, 1])\n",
    "print (\"solution points :-\", X1)\n",
    "print (\"maximum value=\", func(X1))"
   ]
  },
  {
   "cell_type": "code",
   "execution_count": 9,
   "metadata": {
    "collapsed": false
   },
   "outputs": [
    {
     "name": "stdout",
     "output_type": "stream",
     "text": [
      "('solution points :-', array([ 1.15470054,  1.63299316,  0.12178482]))\n",
      "('maximum value=', 0.3247595264191645)\n"
     ]
    }
   ],
   "source": [
    "#Qn. no. 5\n",
    "import numpy as np   \n",
    "from scipy.optimize import fsolve\n",
    "\n",
    "def func(X):\n",
    "    x = X[0]\n",
    "    y = X[1]\n",
    "    L = X[2]\n",
    "    return 1/(x*(y**2))+L * (x**2 +y**2 -4)\n",
    "\n",
    "def dfunc(X):\n",
    "    dLambda = np.zeros(len(X))\n",
    "    h = 1e-5 \n",
    "    for i in range(len(X)):\n",
    "        dX = np.zeros(len(X))\n",
    "        dX[i] = h/2\n",
    "        dLambda[i] = (func(X+dX)-func(X-dX))/(h);\n",
    "    #print \"dlambda:\",dLambda\n",
    "    return dLambda\n",
    "    \n",
    "# this is the max\n",
    "X1 = fsolve(dfunc, [1, 1, 0])\n",
    "print (\"solution points :-\", X1)\n",
    "print (\"maximum value=\", func(X1))"
   ]
  },
  {
   "cell_type": "code",
   "execution_count": 6,
   "metadata": {
    "collapsed": false
   },
   "outputs": [
    {
     "name": "stdout",
     "output_type": "stream",
     "text": [
      "critical points :- [ 1.6 -0.4]\n",
      "minimum value= -4.8\n"
     ]
    }
   ],
   "source": [
    "#Qn.no.7.(a)\n",
    "import numpy as np   \n",
    "from scipy.optimize import fsolve\n",
    "\n",
    "def func(X):\n",
    "    x = X[0]\n",
    "    y = X[1]\n",
    "    return 2*(x**2) + 2*(y**2) + x*y - 6*x\n",
    "\n",
    "def dfunc(X):\n",
    "    dLambda = np.zeros(len(X))\n",
    "    h = 1e-5 \n",
    "    for i in range(len(X)):\n",
    "        dX = np.zeros(len(X))\n",
    "        dX[i] = h/2\n",
    "        dLambda[i] = (func(X+dX)-func(X-dX))/(h);\n",
    "    return dLambda\n",
    "X1 = fsolve(dfunc, [-1, -1])\n",
    "print \"critical points :-\", X1\n",
    "print \"minimum value=\", func(X1)"
   ]
  },
  {
   "cell_type": "code",
   "execution_count": 7,
   "metadata": {
    "collapsed": false
   },
   "outputs": [
    {
     "name": "stdout",
     "output_type": "stream",
     "text": [
      "critical points :- [ 0.25 -0.5 ]\n",
      "minimum value= 0.0625\n"
     ]
    }
   ],
   "source": [
    "#Qn.no.7.(b)\n",
    "import numpy as np   \n",
    "from scipy.optimize import fsolve\n",
    "\n",
    "def func(X):\n",
    "    x = X[0]\n",
    "    y = X[1]\n",
    "    return x**2 + y**2 + x*y + y**3\n",
    "\n",
    "def dfunc(X):\n",
    "    dLambda = np.zeros(len(X))\n",
    "    h = 1e-5 \n",
    "    for i in range(len(X)):\n",
    "        dX = np.zeros(len(X))\n",
    "        dX[i] = h/2\n",
    "        dLambda[i] = (func(X+dX)-func(X-dX))/(h);\n",
    "    return dLambda\n",
    "X1 = fsolve(dfunc, [-2, -2])\n",
    "print \"critical points :-\", X1\n",
    "print \"minimum value=\", func(X1)"
   ]
  },
  {
   "cell_type": "code",
   "execution_count": 8,
   "metadata": {
    "collapsed": false
   },
   "outputs": [
    {
     "name": "stdout",
     "output_type": "stream",
     "text": [
      "critical points :- [    6.99999995 -1161.99998501]\n",
      "maximum value= 2695.0\n"
     ]
    }
   ],
   "source": [
    "#Qn.no.7.(c)\n",
    "import numpy as np   \n",
    "from scipy.optimize import fsolve\n",
    "\n",
    "def func(X):\n",
    "    x = X[0]\n",
    "    y = X[1]\n",
    "    return 8*(x**3) - x**2 + x*y - 7*y\n",
    "\n",
    "def dfunc(X):\n",
    "    dLambda = np.zeros(len(X))\n",
    "    h = 1e-5 \n",
    "    for i in range(len(X)):\n",
    "        dX = np.zeros(len(X))\n",
    "        dX[i] = h/2\n",
    "        dLambda[i] = (func(X+dX)-func(X-dX))/(h);\n",
    "    return dLambda\n",
    "X1 = fsolve(dfunc, [10, 10])\n",
    "print \"critical points :-\", X1\n",
    "print \"maximum value=\", func(X1)"
   ]
  },
  {
   "cell_type": "code",
   "execution_count": 13,
   "metadata": {
    "collapsed": false
   },
   "outputs": [
    {
     "name": "stdout",
     "output_type": "stream",
     "text": [
      "('optimal points are : ', [-1, 0])\n",
      "('optimal value 1 is  :-', -2)\n",
      "('optimal value 2 is  :-', 0)\n",
      "The Region is :-------------\n",
      "For all x<=-1, f(x) is convex\n",
      "For all x>=0, f(x) is convex\n"
     ]
    }
   ],
   "source": [
    "#Qn.no.6.(a)\n",
    "import sympy as s\n",
    "\n",
    "x=s.symbols('x')\n",
    "g = 6*(x**4)+8*(x**3)\n",
    "q=s.diff(g,x)  #Single differentiation\n",
    "w=s.diff(q,x)  # double diff\n",
    "points=s.solve(q)\n",
    "print(\"optimal points are : \",points)  # optimal points \n",
    "\n",
    "#solu=s.solve(q)\n",
    "\n",
    "print(\"optimal value 1 is  :-\",g.subs(x,points[0]))\n",
    "print(\"optimal value 2 is  :-\",g.subs(x,points[1]))\n",
    "print(\"The Region is :-------------\")\n",
    "ev1=w.subs(x,points[0])\n",
    "ev3=w.subs(x,points[0]-1)\n",
    "ev2=w.subs(x,points[1])\n",
    "ev4=w.subs(x,points[1]+1)\n",
    "\n",
    "if ev1>=0 and ev3>=0:\n",
    "    print(\"For all x<=-1, f(x) is convex\")\n",
    "elif ev1>0 and ev2>0:\n",
    "    print(\"For all x<=-1, f(x) is strictly convex\")\n",
    "elif ev1<=0 and ev2<=0:\n",
    "    print(\"For all x<=-1, f(x) is concave\")\n",
    "elif ev1<0 and ev3<0:\n",
    "    print(\"For all x<=-1, f(x) is strictly convex\")\n",
    "    \n",
    "if ev2>=0 and ev4>=0:\n",
    "    print(\"For all x>=0, f(x) is convex\")\n",
    "elif ev2>0 and ev4>0:\n",
    "    print(\"For all x>=0, f(x) is strictly convex\")\n",
    "elif ev2<=0 and ev4<=0:\n",
    "    print(\"For all x>=0, f(x) is concave\")\n",
    "elif ev2<0 and ev4<0:\n",
    "    print(\"For all x>=0, f(x) is strictly convex\")\n"
   ]
  },
  {
   "cell_type": "code",
   "execution_count": 16,
   "metadata": {
    "collapsed": false
   },
   "outputs": [
    {
     "name": "stdout",
     "output_type": "stream",
     "text": [
      "('optimal points are : ', [5/6])\n",
      "('optimal value 1 is  :-', 47/12)\n"
     ]
    },
    {
     "ename": "IndexError",
     "evalue": "list index out of range",
     "output_type": "error",
     "traceback": [
      "\u001b[0;31m---------------------------------------------------------------------------\u001b[0m",
      "\u001b[0;31mIndexError\u001b[0m                                Traceback (most recent call last)",
      "\u001b[0;32m<ipython-input-16-bd833fb65a23>\u001b[0m in \u001b[0;36m<module>\u001b[0;34m()\u001b[0m\n\u001b[1;32m     12\u001b[0m \u001b[1;33m\u001b[0m\u001b[0m\n\u001b[1;32m     13\u001b[0m \u001b[1;32mprint\u001b[0m\u001b[1;33m(\u001b[0m\u001b[1;34m\"optimal value 1 is  :-\"\u001b[0m\u001b[1;33m,\u001b[0m\u001b[0mg\u001b[0m\u001b[1;33m.\u001b[0m\u001b[0msubs\u001b[0m\u001b[1;33m(\u001b[0m\u001b[0mx\u001b[0m\u001b[1;33m,\u001b[0m\u001b[0mpoints\u001b[0m\u001b[1;33m[\u001b[0m\u001b[1;36m0\u001b[0m\u001b[1;33m]\u001b[0m\u001b[1;33m)\u001b[0m\u001b[1;33m)\u001b[0m\u001b[1;33m\u001b[0m\u001b[0m\n\u001b[0;32m---> 14\u001b[0;31m \u001b[1;32mprint\u001b[0m\u001b[1;33m(\u001b[0m\u001b[1;34m\"optimal value 2 is  :-\"\u001b[0m\u001b[1;33m,\u001b[0m\u001b[0mg\u001b[0m\u001b[1;33m.\u001b[0m\u001b[0msubs\u001b[0m\u001b[1;33m(\u001b[0m\u001b[0mx\u001b[0m\u001b[1;33m,\u001b[0m\u001b[0mpoints\u001b[0m\u001b[1;33m[\u001b[0m\u001b[1;36m1\u001b[0m\u001b[1;33m]\u001b[0m\u001b[1;33m)\u001b[0m\u001b[1;33m)\u001b[0m\u001b[1;33m\u001b[0m\u001b[0m\n\u001b[0m\u001b[1;32m     15\u001b[0m \u001b[1;32mprint\u001b[0m\u001b[1;33m(\u001b[0m\u001b[1;34m\"The Region is :-------------\"\u001b[0m\u001b[1;33m)\u001b[0m\u001b[1;33m\u001b[0m\u001b[0m\n\u001b[1;32m     16\u001b[0m \u001b[0mev1\u001b[0m\u001b[1;33m=\u001b[0m\u001b[0mw\u001b[0m\u001b[1;33m.\u001b[0m\u001b[0msubs\u001b[0m\u001b[1;33m(\u001b[0m\u001b[0mx\u001b[0m\u001b[1;33m,\u001b[0m\u001b[0mpoints\u001b[0m\u001b[1;33m[\u001b[0m\u001b[1;36m0\u001b[0m\u001b[1;33m]\u001b[0m\u001b[1;33m)\u001b[0m\u001b[1;33m\u001b[0m\u001b[0m\n",
      "\u001b[0;31mIndexError\u001b[0m: list index out of range"
     ]
    }
   ],
   "source": [
    "#Qn.no.6.(b)\n",
    "import sympy as s\n",
    "\n",
    "x=s.symbols('x')\n",
    "g = 3*(x**2)-5*x+6\n",
    "q=s.diff(g,x)  #Single differentiation\n",
    "w=s.diff(q,x)  # double diff\n",
    "points=s.solve(q)\n",
    "print(\"optimal points are : \",points)  # optimal points \n",
    "\n",
    "#solu=s.solve(q)\n",
    "\n",
    "print(\"optimal value 1 is  :-\",g.subs(x,points[0]))\n",
    "print(\"optimal value 2 is  :-\",g.subs(x,points[1]))\n",
    "print(\"The Region is :-------------\")\n",
    "ev1=w.subs(x,points[0])\n",
    "ev3=w.subs(x,points[0]-1)\n",
    "ev2=w.subs(x,points[1])\n",
    "ev4=w.subs(x,points[1]+1)\n",
    "\n",
    "if ev1>=0 and ev3>=0:\n",
    "    print(\"For all x<=-1, f(x) is convex\")\n",
    "elif ev1>0 and ev2>0:\n",
    "    print(\"For all x<=-1, f(x) is strictly convex\")\n",
    "elif ev1<=0 and ev2<=0:\n",
    "    print(\"For all x<=-1, f(x) is concave\")\n",
    "elif ev1<0 and ev3<0:\n",
    "    print(\"For all x<=-1, f(x) is strictly convex\")\n",
    "    \n",
    "if ev2>=0 and ev4>=0:\n",
    "    print(\"For all x>=0, f(x) is convex\")\n",
    "elif ev2>0 and ev4>0:\n",
    "    print(\"For all x>=0, f(x) is strictly convex\")\n",
    "elif ev2<=0 and ev4<=0:\n",
    "    print(\"For all x>=0, f(x) is concave\")\n",
    "elif ev2<0 and ev4<0:\n",
    "    print(\"For all x>=0, f(x) is strictly convex\")\n"
   ]
  },
  {
   "cell_type": "code",
   "execution_count": 15,
   "metadata": {
    "collapsed": false
   },
   "outputs": [
    {
     "name": "stdout",
     "output_type": "stream",
     "text": [
      "('optimal points are : ', [-1/3, 1])\n",
      "('optimal value 1 is  :-', 5/27)\n",
      "('optimal value 2 is  :-', -1)\n",
      "The Region is :-------------\n",
      "For all x<=-1, f(x) is strictly convex\n",
      "For all x>=0, f(x) is convex\n"
     ]
    }
   ],
   "source": [
    "#Qn.no.6.(c)\n",
    "import sympy as s\n",
    "\n",
    "x=s.symbols('x')\n",
    "g = (x**3)-(x**2)-x\n",
    "q=s.diff(g,x)  #Single differentiation\n",
    "w=s.diff(q,x)  # double diff\n",
    "points=s.solve(q)\n",
    "print(\"optimal points are : \",points)  # optimal points \n",
    "\n",
    "#solu=s.solve(q)\n",
    "\n",
    "print(\"optimal value 1 is  :-\",g.subs(x,points[0]))\n",
    "print(\"optimal value 2 is  :-\",g.subs(x,points[1]))\n",
    "\n",
    "print(\"The Region is :-------------\")\n",
    "ev1=w.subs(x,points[0])\n",
    "ev3=w.subs(x,points[0]-1)\n",
    "ev2=w.subs(x,points[1])\n",
    "ev4=w.subs(x,points[1]+1)\n",
    "if ev1>=0 and ev3>=0:\n",
    "    print(\"For all x<=-1, f(x) is convex\")\n",
    "elif ev1>0 and ev2>0:\n",
    "    print(\"For all x<=-1, f(x) is strictly convex\")\n",
    "elif ev1<=0 and ev2<=0:\n",
    "    print(\"For all x<=-1, f(x) is concave\")\n",
    "elif ev1<0 and ev3<0:\n",
    "    print(\"For all x<=-1, f(x) is strictly convex\")\n",
    "    \n",
    "if ev2>=0 and ev4>=0:\n",
    "    print(\"For all x>=0, f(x) is convex\")\n",
    "elif ev2>0 and ev4>0:\n",
    "    print(\"For all x>=0, f(x) is strictly convex\")\n",
    "elif ev2<=0 and ev4<=0:\n",
    "    print(\"For all x>=0, f(x) is concave\")\n",
    "elif ev2<0 and ev4<0:\n",
    "    print(\"For all x>=0, f(x) is strictly convex\")\n"
   ]
  },
  {
   "cell_type": "code",
   "execution_count": null,
   "metadata": {
    "collapsed": true
   },
   "outputs": [],
   "source": []
  }
 ],
 "metadata": {
  "anaconda-cloud": {},
  "kernelspec": {
   "display_name": "Python [conda root]",
   "language": "python",
   "name": "conda-root-py"
  },
  "language_info": {
   "codemirror_mode": {
    "name": "ipython",
    "version": 2
   },
   "file_extension": ".py",
   "mimetype": "text/x-python",
   "name": "python",
   "nbconvert_exporter": "python",
   "pygments_lexer": "ipython2",
   "version": "2.7.12"
  }
 },
 "nbformat": 4,
 "nbformat_minor": 1
}
